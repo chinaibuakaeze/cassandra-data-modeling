{
 "cells": [
  {
   "cell_type": "markdown",
   "id": "8264217c",
   "metadata": {},
   "source": [
    "## Import python file for pre-processing events data files"
   ]
  },
  {
   "cell_type": "code",
   "execution_count": 1,
   "id": "9c755f5a",
   "metadata": {},
   "outputs": [],
   "source": [
    "from process_data import *"
   ]
  },
  {
   "cell_type": "code",
   "execution_count": 2,
   "id": "40207a9b",
   "metadata": {},
   "outputs": [],
   "source": [
    "import cassandra"
   ]
  },
  {
   "cell_type": "markdown",
   "id": "5485f1cd",
   "metadata": {},
   "source": [
    "## Create a connection to the database"
   ]
  },
  {
   "cell_type": "code",
   "execution_count": 3,
   "id": "b85b7e48",
   "metadata": {},
   "outputs": [],
   "source": [
    "from cassandra.cluster import Cluster\n",
    "try:\n",
    "    cluster = Cluster()\n",
    "    session = cluster.connect()\n",
    "    session.execute(\"Create keyspace if not exists sparkify with replication= \\\n",
    "    {'class': 'SimpleStrategy', 'replication_factor': 1};\")\n",
    "except Exception as e:\n",
    "    print(e)\n",
    "    "
   ]
  },
  {
   "cell_type": "markdown",
   "id": "2f679161",
   "metadata": {},
   "source": [
    "## Connect to sparkify keyspace"
   ]
  },
  {
   "cell_type": "code",
   "execution_count": 4,
   "id": "cecc929a",
   "metadata": {},
   "outputs": [],
   "source": [
    "try:\n",
    "    session.set_keyspace(\"sparkify\")\n",
    "except Exception as e:\n",
    "    print(e)"
   ]
  },
  {
   "cell_type": "markdown",
   "id": "3529c261",
   "metadata": {},
   "source": [
    "## Walk through the events directory and get a list of all the files"
   ]
  },
  {
   "cell_type": "code",
   "execution_count": 5,
   "id": "6de282f6",
   "metadata": {},
   "outputs": [],
   "source": [
    "#Return a list of absolute paths of the csv files in the event data directory\n",
    "files_list = get_file_paths('event_data')"
   ]
  },
  {
   "cell_type": "markdown",
   "id": "2a6f1458",
   "metadata": {},
   "source": [
    "# Pull all the contents of the csv files into a new file"
   ]
  },
  {
   "cell_type": "code",
   "execution_count": 6,
   "id": "e0cb649e",
   "metadata": {},
   "outputs": [],
   "source": [
    "#Create csv file and write the header rows\n",
    "write_file()"
   ]
  },
  {
   "cell_type": "code",
   "execution_count": 7,
   "id": "e0a02d55",
   "metadata": {},
   "outputs": [],
   "source": [
    "#Write the contents from the list of files to the new csv file\n",
    "read_write_file(files_list)"
   ]
  },
  {
   "cell_type": "markdown",
   "id": "ff562dbf",
   "metadata": {},
   "source": [
    "The new csv file titled `new_events_data.csv` contains the following columns:\n",
    "* artist \n",
    "* first_name\n",
    "* gender\n",
    "* itemInSession\n",
    "* last_name\n",
    "* length\n",
    "* level(free or paid)\n",
    "* location\n",
    "* sessionId\n",
    "* song_title\n",
    "* userId"
   ]
  },
  {
   "cell_type": "markdown",
   "id": "282213ce",
   "metadata": {},
   "source": [
    "## Modeling the data for Apache Cassandra"
   ]
  },
  {
   "cell_type": "markdown",
   "id": "22ed30d5",
   "metadata": {},
   "source": [
    "Since Apache Cassandra models the database tables on the queries, I will model the database tables against these 3 queries:\n",
    "1. Give me the artist, song title, and song's length in the music app history that was heard during sessionId = 338, and itemInSession = 4\n",
    "2. Give me only the following: name of artist, song (sorted by itemInSession) and user(first and last name) for userId = 10, sessionId = 182\n",
    "3. Give me every username(first and last) in my music app history who listened to the song 'All Hands Against His Own'"
   ]
  },
  {
   "cell_type": "markdown",
   "id": "4cdaa23d",
   "metadata": {},
   "source": [
    "### Create table for the first query"
   ]
  },
  {
   "cell_type": "code",
   "execution_count": 8,
   "id": "1302def0",
   "metadata": {},
   "outputs": [
    {
     "data": {
      "text/plain": [
       "<cassandra.cluster.ResultSet at 0x110ca7bb0>"
      ]
     },
     "execution_count": 8,
     "metadata": {},
     "output_type": "execute_result"
    }
   ],
   "source": [
    "session.execute(\"CREATE TABLE IF NOT EXISTS songs (sessionId INT, itemInSession INT, artist TEXT, \\\n",
    "song_title TEXT, song_length FLOAT, PRIMARY KEY(sessionId, itemInSession)) \")"
   ]
  },
  {
   "cell_type": "code",
   "execution_count": 9,
   "id": "fad193f8",
   "metadata": {},
   "outputs": [],
   "source": [
    "#load the contents of the new csv file into the database\n",
    "query = \"INSERT INTO songs (sessionId, itemInSession, artist, song_title, song_length) \\\n",
    "    VALUES (%s, %s, %s, %s, %s)\"\n",
    "with open(\"new_events_data.csv\", \"r\") as csvfile:\n",
    "    csv_reader = csv.reader(csvfile)\n",
    "    #skip the header row\n",
    "    next(csv_reader)\n",
    "    #Iterate through the results and create cql insert statement\n",
    "    for lines in csv_reader:\n",
    "        session.execute(query, (int(lines[8]), int(lines[3]), lines[0], \\\n",
    "                                lines[9], float(lines[5])))\n",
    "            "
   ]
  },
  {
   "cell_type": "markdown",
   "id": "3fa5e108",
   "metadata": {},
   "source": [
    "### Run  the first query to verify the data is inserted correctly"
   ]
  },
  {
   "cell_type": "code",
   "execution_count": 10,
   "id": "1e8af6f9",
   "metadata": {},
   "outputs": [
    {
     "name": "stdout",
     "output_type": "stream",
     "text": [
      "Faithless Music Matters (Mark Knight Dub) 495.30731201171875\n"
     ]
    }
   ],
   "source": [
    "rows = session.execute(\"SELECT artist, song_title, song_length FROM songs WHERE sessionId = 338 \\\n",
    "AND itemInSession = 4\")\n",
    "for row in rows:\n",
    "    print(row.artist, row.song_title, row.song_length)"
   ]
  },
  {
   "cell_type": "markdown",
   "id": "2925f9ec",
   "metadata": {},
   "source": [
    "### Create table for the second query"
   ]
  },
  {
   "cell_type": "code",
   "execution_count": 11,
   "id": "50c2ed94",
   "metadata": {},
   "outputs": [
    {
     "data": {
      "text/plain": [
       "<cassandra.cluster.ResultSet at 0x105984d90>"
      ]
     },
     "execution_count": 11,
     "metadata": {},
     "output_type": "execute_result"
    }
   ],
   "source": [
    "session.execute(\"CREATE TABLE IF NOT EXISTS artists (userId INT, sessionId INT, artist TEXT, \\\n",
    "song_title TEXT, first_name TEXT, last_name TEXT, itemInSession INT, level TEXT, \\\n",
    "PRIMARY KEY((userId, sessionId), itemInSession))\")"
   ]
  },
  {
   "cell_type": "code",
   "execution_count": 12,
   "id": "a3004692",
   "metadata": {},
   "outputs": [],
   "source": [
    "#Load data into the artists table\n",
    "query = \"INSERT INTO artists (userId, sessionId, artist, song_title, \\\n",
    "first_name, last_name, itemInSession, level) VALUES (%s, %s, %s, %s, %s, %s, %s, %s)\"\n",
    "with open(\"new_events_data.csv\", \"r\") as csvfile:\n",
    "    csv_reader = csv.reader(csvfile)\n",
    "    #skip the header row\n",
    "    next(csv_reader)\n",
    "    #Iterate through the results and create cql insert statement\n",
    "    for lines in csv_reader:\n",
    "        if lines[10] == 'nan':\n",
    "            lines[10] = int(0)\n",
    "        else:\n",
    "            lines[10] = int(float(lines[10]))\n",
    "        session.execute(query, (lines[10], int(lines[8]), lines[0], lines[9], \\\n",
    "                                lines[1], lines[4], int(lines[3]), lines[6]))"
   ]
  },
  {
   "cell_type": "markdown",
   "id": "ceebbc82",
   "metadata": {},
   "source": [
    "### Run a select statement to verify the data is inserted correctly"
   ]
  },
  {
   "cell_type": "code",
   "execution_count": 13,
   "id": "230d9e66",
   "metadata": {},
   "outputs": [
    {
     "name": "stdout",
     "output_type": "stream",
     "text": [
      "Down To The Bone | Keep On Keepin' On | Sylvie | Cruz\n",
      "Three Drives | Greece 2000 | Sylvie | Cruz\n",
      "Sebastien Tellier | Kilometer | Sylvie | Cruz\n",
      "Lonnie Gordon | Catch You Baby (Steve Pitron & Max Sanna Radio Edit) | Sylvie | Cruz\n"
     ]
    }
   ],
   "source": [
    "rows = session.execute(\"SELECT artist, song_title, first_name, last_name FROM artists \\\n",
    "WHERE userId = 10 AND sessionId = 182\")\n",
    "for row in rows:\n",
    "    #print(row.song_title)\n",
    "    print(row.artist, \"|\", row.song_title, \"|\", row.first_name, \"|\", row.last_name)"
   ]
  },
  {
   "cell_type": "markdown",
   "id": "b6217e98",
   "metadata": {},
   "source": [
    "### Create table for the third query"
   ]
  },
  {
   "cell_type": "code",
   "execution_count": 14,
   "id": "ebb736e0",
   "metadata": {},
   "outputs": [
    {
     "data": {
      "text/plain": [
       "<cassandra.cluster.ResultSet at 0x110ca73a0>"
      ]
     },
     "execution_count": 14,
     "metadata": {},
     "output_type": "execute_result"
    }
   ],
   "source": [
    "session.execute(\"CREATE TABLE IF NOT EXISTS users(song_title TEXT, first_name TEXT, \\\n",
    "last_name TEXT, gender TEXT, PRIMARY KEY(song_title, first_name, last_name))\")"
   ]
  },
  {
   "cell_type": "code",
   "execution_count": 15,
   "id": "c3928351",
   "metadata": {},
   "outputs": [],
   "source": [
    "#load the contents of the new csv file into the users table\n",
    "query = \"INSERT INTO users (song_title, first_name, last_name, gender) \\\n",
    "    VALUES (%s, %s, %s, %s)\"\n",
    "with open(\"new_events_data.csv\", \"r\") as csvfile:\n",
    "    csv_reader = csv.reader(csvfile)\n",
    "    #skip the header row\n",
    "    next(csv_reader)\n",
    "    #Iterate through the results and create cql insert statement\n",
    "    for lines in csv_reader:\n",
    "        session.execute(query, (lines[9], lines[1], lines[4], lines[2]))"
   ]
  },
  {
   "cell_type": "markdown",
   "id": "1a91a3b7",
   "metadata": {},
   "source": [
    "### Run the query to verify the data is inserted correctly"
   ]
  },
  {
   "cell_type": "code",
   "execution_count": 16,
   "id": "3bfb9123",
   "metadata": {},
   "outputs": [
    {
     "name": "stdout",
     "output_type": "stream",
     "text": [
      "Jacqueline Lynch\n",
      "Sara Johnson\n",
      "Tegan Levine\n"
     ]
    }
   ],
   "source": [
    "rows = session.execute(\"SELECT first_name, last_name FROM users WHERE \\\n",
    "song_title = 'All Hands Against His Own'\")\n",
    "for row in rows:\n",
    "    print(row.first_name, row.last_name)"
   ]
  },
  {
   "cell_type": "markdown",
   "id": "11fa84bd",
   "metadata": {},
   "source": [
    "## Drop the tables\n"
   ]
  },
  {
   "cell_type": "code",
   "execution_count": 17,
   "id": "2a79f4ce",
   "metadata": {},
   "outputs": [
    {
     "data": {
      "text/plain": [
       "<cassandra.cluster.ResultSet at 0x111bbae60>"
      ]
     },
     "execution_count": 17,
     "metadata": {},
     "output_type": "execute_result"
    }
   ],
   "source": [
    "session.execute(\"DROP TABLE songs\")\n",
    "session.execute(\"DROP TABLE users\")\n",
    "session.execute(\"DROP TABLE artists\")"
   ]
  },
  {
   "cell_type": "markdown",
   "id": "ad103fa6",
   "metadata": {},
   "source": [
    "## Close the keyspace and cluster connection"
   ]
  },
  {
   "cell_type": "code",
   "execution_count": 18,
   "id": "168db4e4",
   "metadata": {},
   "outputs": [],
   "source": [
    "session.shutdown()\n",
    "cluster.shutdown()"
   ]
  },
  {
   "cell_type": "code",
   "execution_count": null,
   "id": "0c876462",
   "metadata": {},
   "outputs": [],
   "source": []
  }
 ],
 "metadata": {
  "kernelspec": {
   "display_name": "Python 3 (ipykernel)",
   "language": "python",
   "name": "python3"
  },
  "language_info": {
   "codemirror_mode": {
    "name": "ipython",
    "version": 3
   },
   "file_extension": ".py",
   "mimetype": "text/x-python",
   "name": "python",
   "nbconvert_exporter": "python",
   "pygments_lexer": "ipython3",
   "version": "3.10.8"
  }
 },
 "nbformat": 4,
 "nbformat_minor": 5
}
